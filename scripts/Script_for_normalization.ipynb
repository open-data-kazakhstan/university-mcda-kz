{
 "cells": [
  {
   "cell_type": "code",
   "execution_count": null,
   "metadata": {},
   "outputs": [
    {
     "name": "stdout",
     "output_type": "stream",
     "text": [
      "Нормализация аяқталды, деректер 'Normalization_data.csv' файлына сақталды.\n"
     ]
    }
   ],
   "source": [
    "import pandas as pd\n",
    "from sklearn.preprocessing import MinMaxScaler\n",
    "\n",
    "# Деректерді csv файлынан жүктеу\n",
    "file_path = 'data.csv'  # Файлдың нақты жолын көрсетіңіз\n",
    "data = pd.read_csv(file_path)\n",
    "\n",
    "# 'University' бағанын сандық бағандардан бөліп аламыз\n",
    "features = data.drop(columns=['University'])\n",
    "\n",
    "# MinMaxScaler объектісін құру\n",
    "scaler = MinMaxScaler()\n",
    "\n",
    "# Сандық бағандарды нормализация жасау\n",
    "normalized_data = scaler.fit_transform(features)\n",
    "\n",
    "# Нормализацияланған деректерден DataFrame құру\n",
    "normalized_df = pd.DataFrame(normalized_data, columns=features.columns)\n",
    "\n",
    "# Бастапқы деректердегі 'University' бағанын қайта қосу\n",
    "normalized_df.insert(0, 'University', data['University'])\n",
    "\n",
    "# Нәтижені жаңа CSV файлға сақтау\n",
    "normalized_df.to_csv('Normalization_data.csv', index=False)\n",
    "\n",
    "print(\"Нормализация аяқталды, деректер 'Normalization_data.csv' файлына сақталды.\")"
   ]
  },
  {
   "cell_type": "code",
   "execution_count": null,
   "metadata": {},
   "outputs": [],
   "source": []
  }
 ],
 "metadata": {
  "kernelspec": {
   "display_name": "Python 3",
   "language": "python",
   "name": "python3"
  },
  "language_info": {
   "codemirror_mode": {
    "name": "ipython",
    "version": 3
   },
   "file_extension": ".py",
   "mimetype": "text/x-python",
   "name": "python",
   "nbconvert_exporter": "python",
   "pygments_lexer": "ipython3",
   "version": "3.11.0"
  }
 },
 "nbformat": 4,
 "nbformat_minor": 2
}
